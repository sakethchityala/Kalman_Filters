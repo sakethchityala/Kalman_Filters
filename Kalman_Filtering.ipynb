{
 "cells": [
  {
   "cell_type": "code",
   "execution_count": 1,
   "metadata": {},
   "outputs": [],
   "source": [
    "import pandas as pd\n",
    "import numpy as np\n",
    "from statsmodels import regression\n",
    "import statsmodels.api as sm\n",
    "import matplotlib.pyplot as plt\n",
    "import math\n",
    "%matplotlib inline"
   ]
  },
  {
   "cell_type": "markdown",
   "metadata": {},
   "source": [
    "## Initial Data"
   ]
  },
  {
   "cell_type": "code",
   "execution_count": 2,
   "metadata": {},
   "outputs": [
    {
     "data": {
      "text/html": [
       "<div>\n",
       "<style scoped>\n",
       "    .dataframe tbody tr th:only-of-type {\n",
       "        vertical-align: middle;\n",
       "    }\n",
       "\n",
       "    .dataframe tbody tr th {\n",
       "        vertical-align: top;\n",
       "    }\n",
       "\n",
       "    .dataframe thead th {\n",
       "        text-align: right;\n",
       "    }\n",
       "</style>\n",
       "<table border=\"1\" class=\"dataframe\">\n",
       "  <thead>\n",
       "    <tr style=\"text-align: right;\">\n",
       "      <th></th>\n",
       "      <th>crsp_cl_grp</th>\n",
       "      <th>year</th>\n",
       "      <th>quarter</th>\n",
       "      <th>dollar_flows (t)</th>\n",
       "      <th>psi (t-1)</th>\n",
       "      <th>sigma (t)</th>\n",
       "      <th>r (t)</th>\n",
       "    </tr>\n",
       "  </thead>\n",
       "  <tbody>\n",
       "    <tr>\n",
       "      <th>0</th>\n",
       "      <td>2002603</td>\n",
       "      <td>2000</td>\n",
       "      <td>1</td>\n",
       "      <td>34.97290</td>\n",
       "      <td>2.742498</td>\n",
       "      <td>24.31458</td>\n",
       "      <td>-1.528390</td>\n",
       "    </tr>\n",
       "    <tr>\n",
       "      <th>1</th>\n",
       "      <td>2002603</td>\n",
       "      <td>2000</td>\n",
       "      <td>2</td>\n",
       "      <td>40.79236</td>\n",
       "      <td>0.938819</td>\n",
       "      <td>28.88293</td>\n",
       "      <td>-1.767076</td>\n",
       "    </tr>\n",
       "    <tr>\n",
       "      <th>2</th>\n",
       "      <td>2002603</td>\n",
       "      <td>2000</td>\n",
       "      <td>3</td>\n",
       "      <td>32.78430</td>\n",
       "      <td>0.734990</td>\n",
       "      <td>15.19339</td>\n",
       "      <td>-5.368132</td>\n",
       "    </tr>\n",
       "    <tr>\n",
       "      <th>3</th>\n",
       "      <td>2002603</td>\n",
       "      <td>2000</td>\n",
       "      <td>4</td>\n",
       "      <td>34.54834</td>\n",
       "      <td>0.881965</td>\n",
       "      <td>27.46894</td>\n",
       "      <td>-1.682085</td>\n",
       "    </tr>\n",
       "    <tr>\n",
       "      <th>4</th>\n",
       "      <td>2002603</td>\n",
       "      <td>2001</td>\n",
       "      <td>1</td>\n",
       "      <td>30.53607</td>\n",
       "      <td>0.888824</td>\n",
       "      <td>25.67295</td>\n",
       "      <td>-17.174280</td>\n",
       "    </tr>\n",
       "  </tbody>\n",
       "</table>\n",
       "</div>"
      ],
      "text/plain": [
       "   crsp_cl_grp  year  quarter  dollar_flows (t)  psi (t-1)  sigma (t)  \\\n",
       "0      2002603  2000        1          34.97290   2.742498   24.31458   \n",
       "1      2002603  2000        2          40.79236   0.938819   28.88293   \n",
       "2      2002603  2000        3          32.78430   0.734990   15.19339   \n",
       "3      2002603  2000        4          34.54834   0.881965   27.46894   \n",
       "4      2002603  2001        1          30.53607   0.888824   25.67295   \n",
       "\n",
       "       r (t)  \n",
       "0  -1.528390  \n",
       "1  -1.767076  \n",
       "2  -5.368132  \n",
       "3  -1.682085  \n",
       "4 -17.174280  "
      ]
     },
     "execution_count": 2,
     "metadata": {},
     "output_type": "execute_result"
    }
   ],
   "source": [
    "data = pd.read_excel('to saketh.xlsx')\n",
    "data.head()"
   ]
  },
  {
   "cell_type": "markdown",
   "metadata": {},
   "source": [
    "## Datat Manipulation"
   ]
  },
  {
   "cell_type": "code",
   "execution_count": 3,
   "metadata": {},
   "outputs": [],
   "source": [
    "psi = data['psi (t-1)']\n",
    "delta_q = data['dollar_flows (t)']\n",
    "sigma_t = data['sigma (t)']\n",
    "r_t = data['r (t)']\n",
    "r_t1 = r_t.shift(periods=-1, axis='rows')\n",
    "r_t1.pop(67)\n",
    "delta_q1 = delta_q.shift(periods=-1, axis='rows')\n",
    "delta_q1.pop(67)\n",
    "sigma_t1 = sigma_t.shift(periods=-1, axis='rows')\n",
    "sigma_t1.pop(67)\n",
    "sigmasquare_t1 = sigma_t1**2\n",
    "sigma_t.pop(67)\n",
    "sigmasquare_t = sigma_t**2"
   ]
  },
  {
   "cell_type": "code",
   "execution_count": 4,
   "metadata": {},
   "outputs": [
    {
     "data": {
      "text/html": [
       "<div>\n",
       "<style scoped>\n",
       "    .dataframe tbody tr th:only-of-type {\n",
       "        vertical-align: middle;\n",
       "    }\n",
       "\n",
       "    .dataframe tbody tr th {\n",
       "        vertical-align: top;\n",
       "    }\n",
       "\n",
       "    .dataframe thead th {\n",
       "        text-align: right;\n",
       "    }\n",
       "</style>\n",
       "<table border=\"1\" class=\"dataframe\">\n",
       "  <thead>\n",
       "    <tr style=\"text-align: right;\">\n",
       "      <th></th>\n",
       "      <th>dollar_flows (t)</th>\n",
       "      <th>r_t1</th>\n",
       "      <th>psi</th>\n",
       "      <th>sigmasquare_t1</th>\n",
       "      <th>sigmasquare_t</th>\n",
       "    </tr>\n",
       "  </thead>\n",
       "  <tbody>\n",
       "    <tr>\n",
       "      <th>0</th>\n",
       "      <td>40.79236</td>\n",
       "      <td>-1.767076</td>\n",
       "      <td>2.742498</td>\n",
       "      <td>834.223645</td>\n",
       "      <td>591.198801</td>\n",
       "    </tr>\n",
       "    <tr>\n",
       "      <th>1</th>\n",
       "      <td>32.78430</td>\n",
       "      <td>-5.368132</td>\n",
       "      <td>0.938819</td>\n",
       "      <td>230.839100</td>\n",
       "      <td>834.223645</td>\n",
       "    </tr>\n",
       "    <tr>\n",
       "      <th>2</th>\n",
       "      <td>34.54834</td>\n",
       "      <td>-1.682085</td>\n",
       "      <td>0.734990</td>\n",
       "      <td>754.542665</td>\n",
       "      <td>230.839100</td>\n",
       "    </tr>\n",
       "    <tr>\n",
       "      <th>3</th>\n",
       "      <td>30.53607</td>\n",
       "      <td>-17.174280</td>\n",
       "      <td>0.881965</td>\n",
       "      <td>659.100362</td>\n",
       "      <td>754.542665</td>\n",
       "    </tr>\n",
       "    <tr>\n",
       "      <th>4</th>\n",
       "      <td>15.07355</td>\n",
       "      <td>3.692329</td>\n",
       "      <td>0.888824</td>\n",
       "      <td>504.837537</td>\n",
       "      <td>659.100362</td>\n",
       "    </tr>\n",
       "  </tbody>\n",
       "</table>\n",
       "</div>"
      ],
      "text/plain": [
       "   dollar_flows (t)       r_t1       psi  sigmasquare_t1  sigmasquare_t\n",
       "0          40.79236  -1.767076  2.742498      834.223645     591.198801\n",
       "1          32.78430  -5.368132  0.938819      230.839100     834.223645\n",
       "2          34.54834  -1.682085  0.734990      754.542665     230.839100\n",
       "3          30.53607 -17.174280  0.881965      659.100362     754.542665\n",
       "4          15.07355   3.692329  0.888824      504.837537     659.100362"
      ]
     },
     "execution_count": 4,
     "metadata": {},
     "output_type": "execute_result"
    }
   ],
   "source": [
    "new_data = pd.DataFrame(delta_q1)\n",
    "new_data['r_t1'] = r_t1\n",
    "new_data['psi'] = psi\n",
    "new_data['sigmasquare_t1'] = sigmasquare_t1\n",
    "new_data['sigmasquare_t'] = sigmasquare_t\n",
    "new_data.head()"
   ]
  },
  {
   "cell_type": "code",
   "execution_count": 5,
   "metadata": {},
   "outputs": [],
   "source": [
    "eta = 1"
   ]
  },
  {
   "cell_type": "markdown",
   "metadata": {},
   "source": [
    "## $Y$ = $\\frac{\\Delta q_{t+1}}{\\eta r_{t+1}}$ - $\\frac{\\psi_t}{r_{t+1}}$$(\\sigma_{t+1}^2-\\sigma_t^2)$"
   ]
  },
  {
   "cell_type": "code",
   "execution_count": 6,
   "metadata": {},
   "outputs": [],
   "source": [
    "new_data['Y'] = (new_data['dollar_flows (t)']/(new_data['r_t1'])*eta) - (new_data['psi']/new_data['r_t1'])*(new_data['sigmasquare_t1']-new_data['sigmasquare_t']) "
   ]
  },
  {
   "cell_type": "markdown",
   "metadata": {},
   "source": [
    "## New DataSet"
   ]
  },
  {
   "cell_type": "code",
   "execution_count": 7,
   "metadata": {},
   "outputs": [
    {
     "data": {
      "text/html": [
       "<div>\n",
       "<style scoped>\n",
       "    .dataframe tbody tr th:only-of-type {\n",
       "        vertical-align: middle;\n",
       "    }\n",
       "\n",
       "    .dataframe tbody tr th {\n",
       "        vertical-align: top;\n",
       "    }\n",
       "\n",
       "    .dataframe thead th {\n",
       "        text-align: right;\n",
       "    }\n",
       "</style>\n",
       "<table border=\"1\" class=\"dataframe\">\n",
       "  <thead>\n",
       "    <tr style=\"text-align: right;\">\n",
       "      <th></th>\n",
       "      <th>dollar_flows (t)</th>\n",
       "      <th>r_t1</th>\n",
       "      <th>psi</th>\n",
       "      <th>sigmasquare_t1</th>\n",
       "      <th>sigmasquare_t</th>\n",
       "      <th>Y</th>\n",
       "    </tr>\n",
       "  </thead>\n",
       "  <tbody>\n",
       "    <tr>\n",
       "      <th>0</th>\n",
       "      <td>40.79236</td>\n",
       "      <td>-1.767076</td>\n",
       "      <td>2.742498</td>\n",
       "      <td>834.223645</td>\n",
       "      <td>591.198801</td>\n",
       "      <td>354.089349</td>\n",
       "    </tr>\n",
       "    <tr>\n",
       "      <th>1</th>\n",
       "      <td>32.78430</td>\n",
       "      <td>-5.368132</td>\n",
       "      <td>0.938819</td>\n",
       "      <td>230.839100</td>\n",
       "      <td>834.223645</td>\n",
       "      <td>-111.631602</td>\n",
       "    </tr>\n",
       "    <tr>\n",
       "      <th>2</th>\n",
       "      <td>34.54834</td>\n",
       "      <td>-1.682085</td>\n",
       "      <td>0.734990</td>\n",
       "      <td>754.542665</td>\n",
       "      <td>230.839100</td>\n",
       "      <td>208.294321</td>\n",
       "    </tr>\n",
       "    <tr>\n",
       "      <th>3</th>\n",
       "      <td>30.53607</td>\n",
       "      <td>-17.174280</td>\n",
       "      <td>0.881965</td>\n",
       "      <td>659.100362</td>\n",
       "      <td>754.542665</td>\n",
       "      <td>-6.679339</td>\n",
       "    </tr>\n",
       "    <tr>\n",
       "      <th>4</th>\n",
       "      <td>15.07355</td>\n",
       "      <td>3.692329</td>\n",
       "      <td>0.888824</td>\n",
       "      <td>504.837537</td>\n",
       "      <td>659.100362</td>\n",
       "      <td>41.216809</td>\n",
       "    </tr>\n",
       "  </tbody>\n",
       "</table>\n",
       "</div>"
      ],
      "text/plain": [
       "   dollar_flows (t)       r_t1       psi  sigmasquare_t1  sigmasquare_t  \\\n",
       "0          40.79236  -1.767076  2.742498      834.223645     591.198801   \n",
       "1          32.78430  -5.368132  0.938819      230.839100     834.223645   \n",
       "2          34.54834  -1.682085  0.734990      754.542665     230.839100   \n",
       "3          30.53607 -17.174280  0.881965      659.100362     754.542665   \n",
       "4          15.07355   3.692329  0.888824      504.837537     659.100362   \n",
       "\n",
       "            Y  \n",
       "0  354.089349  \n",
       "1 -111.631602  \n",
       "2  208.294321  \n",
       "3   -6.679339  \n",
       "4   41.216809  "
      ]
     },
     "execution_count": 7,
     "metadata": {},
     "output_type": "execute_result"
    }
   ],
   "source": [
    "new_data.head()"
   ]
  },
  {
   "cell_type": "code",
   "execution_count": 8,
   "metadata": {},
   "outputs": [],
   "source": [
    "Y_t1 = new_data['Y']"
   ]
  },
  {
   "cell_type": "markdown",
   "metadata": {},
   "source": [
    "# Plot"
   ]
  },
  {
   "cell_type": "code",
   "execution_count": 9,
   "metadata": {},
   "outputs": [
    {
     "data": {
      "text/plain": [
       "[<matplotlib.lines.Line2D at 0x1f48b865160>]"
      ]
     },
     "execution_count": 9,
     "metadata": {},
     "output_type": "execute_result"
    },
    {
     "data": {
      "image/png": "[encoded data removed]",
      "text/plain": [
       "<Figure size 432x288 with 1 Axes>"
      ]
     },
     "metadata": {
      "needs_background": "light"
     },
     "output_type": "display_data"
    }
   ],
   "source": [
    "plt.plot(Y_t1)"
   ]
  },
  {
   "cell_type": "markdown",
   "metadata": {},
   "source": [
    "### OLS Regression"
   ]
  },
  {
   "cell_type": "code",
   "execution_count": 10,
   "metadata": {},
   "outputs": [
    {
     "name": "stderr",
     "output_type": "stream",
     "text": [
      "C:\\ProgramData\\Anaconda3\\lib\\site-packages\\numpy\\core\\fromnumeric.py:2389: FutureWarning: Method .ptp is deprecated and will be removed in a future version. Use numpy.ptp instead.\n",
      "  return ptp(axis=axis, out=out, **kwargs)\n"
     ]
    }
   ],
   "source": [
    "X = sm.add_constant(sigmasquare_t)\n",
    "model = regression.linear_model.OLS(Y_t1, X).fit()"
   ]
  },
  {
   "cell_type": "code",
   "execution_count": 11,
   "metadata": {},
   "outputs": [],
   "source": [
    "intercept = model.params[0]"
   ]
  },
  {
   "cell_type": "code",
   "execution_count": 12,
   "metadata": {},
   "outputs": [],
   "source": [
    "coefficent = model.params[1]"
   ]
  },
  {
   "cell_type": "code",
   "execution_count": 13,
   "metadata": {},
   "outputs": [
    {
     "name": "stdout",
     "output_type": "stream",
     "text": [
      "intercept: 8.635399184215675 coefficent: -0.0008973154720135824\n"
     ]
    }
   ],
   "source": [
    "print('intercept:',intercept,'coefficent:',coefficent)"
   ]
  },
  {
   "cell_type": "code",
   "execution_count": 14,
   "metadata": {},
   "outputs": [
    {
     "name": "stdout",
     "output_type": "stream",
     "text": [
      "                            OLS Regression Results                            \n",
      "==============================================================================\n",
      "Dep. Variable:                      Y   R-squared:                       0.000\n",
      "Model:                            OLS   Adj. R-squared:                 -0.015\n",
      "Method:                 Least Squares   F-statistic:                  0.005303\n",
      "Date:                Mon, 19 Aug 2019   Prob (F-statistic):              0.942\n",
      "Time:                        12:10:16   Log-Likelihood:                -365.94\n",
      "No. Observations:                  67   AIC:                             735.9\n",
      "Df Residuals:                      65   BIC:                             740.3\n",
      "Df Model:                           1                                         \n",
      "Covariance Type:            nonrobust                                         \n",
      "==============================================================================\n",
      "                 coef    std err          t      P>|t|      [0.025      0.975]\n",
      "------------------------------------------------------------------------------\n",
      "const          8.6354      8.599      1.004      0.319      -8.539      25.809\n",
      "sigma (t)     -0.0009      0.012     -0.073      0.942      -0.026       0.024\n",
      "==============================================================================\n",
      "Omnibus:                       85.521   Durbin-Watson:                   2.104\n",
      "Prob(Omnibus):                  0.000   Jarque-Bera (JB):             1290.169\n",
      "Skew:                           3.661   Prob(JB):                    6.97e-281\n",
      "Kurtosis:                      23.212   Cond. No.                         849.\n",
      "==============================================================================\n",
      "\n",
      "Warnings:\n",
      "[1] Standard Errors assume that the covariance matrix of the errors is correctly specified.\n"
     ]
    }
   ],
   "source": [
    "print(model.summary())"
   ]
  },
  {
   "cell_type": "markdown",
   "metadata": {},
   "source": [
    "$B = \\sigma_{t+1}^2$"
   ]
  },
  {
   "cell_type": "code",
   "execution_count": 15,
   "metadata": {},
   "outputs": [],
   "source": [
    "B = new_data.sigmasquare_t1"
   ]
  },
  {
   "cell_type": "markdown",
   "metadata": {},
   "source": [
    "## Kalman Filtering"
   ]
  },
  {
   "cell_type": "code",
   "execution_count": 16,
   "metadata": {},
   "outputs": [
    {
     "data": {
      "image/png": "[encoded data removed]",
      "text/plain": [
       "<Figure size 432x288 with 2 Axes>"
      ]
     },
     "metadata": {
      "needs_background": "light"
     },
     "output_type": "display_data"
    },
    {
     "data": {
      "image/png": "[encoded data removed]",
      "text/plain": [
       "<Figure size 432x288 with 1 Axes>"
      ]
     },
     "metadata": {
      "needs_background": "light"
     },
     "output_type": "display_data"
    }
   ],
   "source": [
    "from pykalman import KalmanFilter\n",
    "\n",
    "if __name__ == \"__main__\":\n",
    "    delta = 1e-3\n",
    "    trans_cov = delta / (1 - delta) * np.eye(2)\n",
    "    obs_mat = np.vstack( [B,  np.ones(B.shape)]).T[:, np.newaxis]\n",
    "    kf = KalmanFilter(\n",
    "        n_dim_obs=1,\n",
    "        n_dim_state=2,\n",
    "        initial_state_mean=np.zeros(2),\n",
    "        initial_state_covariance=np.ones((2, 2)),\n",
    "        transition_matrices=np.eye(2),\n",
    "        observation_matrices=obs_mat,\n",
    "        observation_covariance=1.0,\n",
    "        transition_covariance=trans_cov        \n",
    "    )\n",
    "\n",
    "    state_means, state_covs = kf.filter(Y_t1)\n",
    "\n",
    "\n",
    "    \n",
    "    Y_est = np.array([a.dot(b) for a, b in zip(np.squeeze(obs_mat), state_means)])\n",
    "\n",
    "    # Draw slope and intercept...\n",
    "    pd.DataFrame(\n",
    "        dict(\n",
    "            psi=state_means[:, 0],\n",
    "            alpha=state_means[:, 1],\n",
    "        ), index=Y_t1.index\n",
    "    ).plot(subplots=True)\n",
    "    plt.show()\n",
    "\n",
    "    pd.DataFrame(\n",
    "        dict(\n",
    "            Y_est=Y_est,\n",
    "            Y_act=Y_t1\n",
    "        ), index=Y_t1.index\n",
    "    ).plot()\n",
    "    plt.show()"
   ]
  },
  {
   "cell_type": "code",
   "execution_count": 17,
   "metadata": {},
   "outputs": [],
   "source": [
    "from sklearn.metrics import mean_squared_error"
   ]
  },
  {
   "cell_type": "code",
   "execution_count": 18,
   "metadata": {},
   "outputs": [
    {
     "data": {
      "text/plain": [
       "0.8166273896916041"
      ]
     },
     "execution_count": 18,
     "metadata": {},
     "output_type": "execute_result"
    }
   ],
   "source": [
    "mean_squared_error(Y_t1, Y_est)"
   ]
  },
  {
   "cell_type": "code",
   "execution_count": 19,
   "metadata": {},
   "outputs": [],
   "source": [
    "MSE = np.square(np.subtract(Y_t1,Y_est)).mean() "
   ]
  },
  {
   "cell_type": "markdown",
   "metadata": {},
   "source": [
    "## Mean Squared Error"
   ]
  },
  {
   "cell_type": "code",
   "execution_count": 20,
   "metadata": {},
   "outputs": [
    {
     "data": {
      "text/plain": [
       "0.8166273896916039"
      ]
     },
     "execution_count": 20,
     "metadata": {},
     "output_type": "execute_result"
    }
   ],
   "source": [
    "MSE"
   ]
  },
  {
   "cell_type": "code",
   "execution_count": null,
   "metadata": {},
   "outputs": [],
   "source": [
    " "
   ]
  }
 ],
 "metadata": {
  "kernelspec": {
   "display_name": "Python 3",
   "language": "python",
   "name": "python3"
  },
  "language_info": {
   "codemirror_mode": {
    "name": "ipython",
    "version": 3
   },
   "file_extension": ".py",
   "mimetype": "text/x-python",
   "name": "python",
   "nbconvert_exporter": "python",
   "pygments_lexer": "ipython3",
   "version": "3.7.3"
  }
 },
 "nbformat": 4,
 "nbformat_minor": 2
}
